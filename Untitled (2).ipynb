{
 "cells": [
  {
   "cell_type": "code",
   "execution_count": null,
   "id": "5d79be86-705f-4b61-8ee1-1e9eb77cfa80",
   "metadata": {},
   "outputs": [],
   "source": []
  },
  {
   "cell_type": "markdown",
   "id": "03d03604-529f-419c-8ca1-eb600346fa3a",
   "metadata": {
    "deletable": false,
    "editable": false
   },
   "source": [
    "<a class=\"jcecodle-mk jcecodle-mk__problem-chip\" data-problem-id=\"8pbS5ZrySYQ\" href='#jce-judge/open/8pbS5ZrySYQ' target='_self'><span>합격과 불합격의 복제본 수정3</span></a>\n"
   ]
  }
 ],
 "metadata": {
  "kernelspec": {
   "display_name": "",
   "name": ""
  },
  "language_info": {
   "name": ""
  },
  "read_only": true
 },
 "nbformat": 4,
 "nbformat_minor": 5
}
